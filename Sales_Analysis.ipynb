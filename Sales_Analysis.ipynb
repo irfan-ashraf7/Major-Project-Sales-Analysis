{
 "cells": [
  {
   "cell_type": "code",
   "execution_count": null,
   "metadata": {},
   "outputs": [],
   "source": [
    "# !pip install pandas numpy seaborn matplotlib klib dtable scikit-learn joblib"
   ]
  },
  {
   "cell_type": "code",
   "execution_count": null,
   "metadata": {},
   "outputs": [],
   "source": [
    "import numpy as np\n",
    "import pandas as pd\n",
    "\n",
    "# for visualization\n",
    "import matplotlib.pyplot as plt\n",
    "import seaborn as sns\n",
    "\n",
    "\n",
    "from sklearn.linear_model import LinearRegression\n",
    "from sklearn.model_selection import train_test_split\n",
    "from sklearn.preprocessing import PolynomialFeatures\n",
    "\n"
   ]
  },
  {
   "cell_type": "code",
   "execution_count": null,
   "metadata": {},
   "outputs": [],
   "source": [
    "file_path = \"D:/Github/Major-Project-Sales-Analysis/Online Retail.xlsx\"\n",
    "df = pd.read_excel(file_path)\n",
    "\n",
    "df.head()"
   ]
  },
  {
   "cell_type": "code",
   "execution_count": null,
   "metadata": {},
   "outputs": [],
   "source": [
    "df.info()"
   ]
  },
  {
   "cell_type": "code",
   "execution_count": null,
   "metadata": {},
   "outputs": [],
   "source": [
    "df.isna().sum()"
   ]
  },
  {
   "cell_type": "code",
   "execution_count": null,
   "metadata": {},
   "outputs": [],
   "source": [
    "#checking what is null in each null rows\n",
    "rows_with_na = df[df.isna().any(axis=1)]\n",
    "rows_with_na.head(100)\n",
    "\n",
    "# removing the null values\n",
    "df.dropna(inplace=True)\n",
    "df.isna().sum()"
   ]
  },
  {
   "cell_type": "code",
   "execution_count": null,
   "metadata": {},
   "outputs": [],
   "source": [
    "# droping the country column\n",
    "df.drop(columns=['Country'],inplace=True)"
   ]
  },
  {
   "cell_type": "code",
   "execution_count": null,
   "metadata": {},
   "outputs": [],
   "source": [
    "df.duplicated().sum()"
   ]
  },
  {
   "cell_type": "code",
   "execution_count": null,
   "metadata": {},
   "outputs": [],
   "source": [
    "# Creating another data Frame for cecking duplicate values in the original DataFrame\n",
    "\n",
    "duplicate_values = df[df.duplicated()]\n",
    "duplicate_values.head()"
   ]
  },
  {
   "cell_type": "code",
   "execution_count": null,
   "metadata": {},
   "outputs": [],
   "source": [
    "aggregated_df = df.groupby(['InvoiceNo', 'Description'], as_index=False)['Quantity'].sum()\n",
    "aggregated_df.head()"
   ]
  },
  {
   "cell_type": "code",
   "execution_count": null,
   "metadata": {},
   "outputs": [],
   "source": [
    "# checking with specific invoiceNo if there is any data Duplication \n",
    "\n",
    "invoice_item_536412 = aggregated_df[aggregated_df['InvoiceNo'] == 536412]\n",
    "invoice_item_536412"
   ]
  },
  {
   "cell_type": "code",
   "execution_count": null,
   "metadata": {},
   "outputs": [],
   "source": [
    "'''\n",
    "Merging the aggregated dataframe with the original DataFrame.\n",
    "Adding a additional column as quantity_agg that will give us total item bought in single invoice of specific stockNo\n",
    "Then Deleting the duplicate rows of similar product name.\n",
    "\n",
    "'''\n",
    "df = df.merge(aggregated_df, on=['InvoiceNo','Description'], suffixes=('','_agg'), how='left')\n",
    "\n",
    "df.drop_duplicates(['InvoiceNo','Description'], keep='first', inplace=True)\n",
    "\n",
    "# df.duplicated().sum()"
   ]
  },
  {
   "cell_type": "code",
   "execution_count": null,
   "metadata": {},
   "outputs": [],
   "source": [
    "df.drop(columns=['Quantity'],inplace=True)"
   ]
  },
  {
   "cell_type": "code",
   "execution_count": null,
   "metadata": {},
   "outputs": [],
   "source": [
    "# Check \n",
    "\n",
    "invoice_item_536412 = df[df['InvoiceNo'] == 536412]\n",
    "invoice_item_536412"
   ]
  },
  {
   "cell_type": "code",
   "execution_count": null,
   "metadata": {},
   "outputs": [],
   "source": [
    "df.head()"
   ]
  },
  {
   "cell_type": "code",
   "execution_count": null,
   "metadata": {},
   "outputs": [],
   "source": [
    "df.info()\n",
    "df.describe()\n",
    "\n",
    "# df['IsCancelled'] = df['InvoiceNo'].str.startswith('c').astype(bool)\n",
    "# df = df[~df['IsCancelled']]\n",
    "# df.reset_index(drop=False, inplace=True)\n"
   ]
  },
  {
   "cell_type": "code",
   "execution_count": null,
   "metadata": {},
   "outputs": [],
   "source": [
    "df['IsCancelled'] = df['InvoiceNo'].str.startswith('c').astype(bool)\n",
    "cancelled_data = df[~df['IsCancelled']]\n",
    "# cancelled_data\n",
    "\n",
    "df = df[df['IsCancelled']]\n",
    "df.reset_index(drop=True, inplace=True)"
   ]
  },
  {
   "cell_type": "code",
   "execution_count": null,
   "metadata": {},
   "outputs": [],
   "source": [
    "df.info()"
   ]
  },
  {
   "cell_type": "code",
   "execution_count": null,
   "metadata": {},
   "outputs": [],
   "source": [
    "# df['InvoiceNo'] = df['InvoiceNo'].astype('int64')\n",
    "\n",
    "# df['Billing Date'] = df['InvoiceDate'].split(\" \")[0]\n",
    "\n",
    "# df['Billing Date']\n",
    "\n",
    "df['CustomerID'] = df['CustomerID'].astype(int)"
   ]
  },
  {
   "cell_type": "code",
   "execution_count": null,
   "metadata": {},
   "outputs": [],
   "source": [
    "df.drop(columns=['IsCancelled'], inplace=True)\n",
    "\n",
    "df.head()"
   ]
  },
  {
   "cell_type": "code",
   "execution_count": null,
   "metadata": {},
   "outputs": [],
   "source": [
    "customer_sales = df.groupby('CustomerID')['Quantity_agg'].sum().sort_values(ascending=False)\n",
    "\n",
    "plt.figure(figsize=(10,6))\n",
    "customer_sales.head(10).plot(kind='bar',rot=0, )\n",
    "plt.xlabel('Customer ID')\n",
    "plt.ylabel('Total Quantity Sold')\n",
    "plt.show()"
   ]
  },
  {
   "cell_type": "code",
   "execution_count": null,
   "metadata": {},
   "outputs": [],
   "source": [
    "# Check \n",
    "customerID_14646 = df[df['CustomerID'] == 14646]\n",
    "customerID_14646_total_item_bought = customerID_14646['Quantity_agg'].sum()\n",
    "customerID_14646_total_item_bought"
   ]
  },
  {
   "cell_type": "code",
   "execution_count": null,
   "metadata": {},
   "outputs": [],
   "source": [
    "df.info()\n",
    "df.describe()"
   ]
  },
  {
   "cell_type": "code",
   "execution_count": null,
   "metadata": {},
   "outputs": [],
   "source": [
    "# checing for Outliners using Boxplot\n",
    "\n",
    "sns.boxplot(data=df,x=df['CustomerID'], y=df['Quantity_agg'])"
   ]
  },
  {
   "cell_type": "code",
   "execution_count": null,
   "metadata": {},
   "outputs": [],
   "source": [
    "# customer_sales = df.groupby('CustomerID')['Quantity_agg'].sum().sort_values(ascending=False)\n",
    "# df.drop(columns=['Quantity_agg'], axis=1 )\n"
   ]
  },
  {
   "cell_type": "code",
   "execution_count": null,
   "metadata": {},
   "outputs": [],
   "source": [
    "# item_to_drop = df[df['CustomerID'] == 14646].index\n",
    "# df = df.drop(item_to_drop)\n",
    "# df.info()"
   ]
  },
  {
   "cell_type": "code",
   "execution_count": null,
   "metadata": {},
   "outputs": [],
   "source": [
    "# sns.boxplot(data=df,x=df['CustomerID'], y=df['Quantity_agg'])"
   ]
  },
  {
   "cell_type": "code",
   "execution_count": null,
   "metadata": {},
   "outputs": [],
   "source": [
    "# df.groupby('CustomerID')['Quantity_agg'].sum().sort_values(ascending=False)"
   ]
  },
  {
   "cell_type": "code",
   "execution_count": null,
   "metadata": {},
   "outputs": [],
   "source": []
  },
  {
   "cell_type": "code",
   "execution_count": null,
   "metadata": {},
   "outputs": [],
   "source": []
  },
  {
   "cell_type": "code",
   "execution_count": null,
   "metadata": {},
   "outputs": [],
   "source": []
  },
  {
   "cell_type": "code",
   "execution_count": null,
   "metadata": {},
   "outputs": [],
   "source": []
  }
 ],
 "metadata": {
  "kernelspec": {
   "display_name": "base",
   "language": "python",
   "name": "python3"
  },
  "language_info": {
   "codemirror_mode": {
    "name": "ipython",
    "version": 3
   },
   "file_extension": ".py",
   "mimetype": "text/x-python",
   "name": "python",
   "nbconvert_exporter": "python",
   "pygments_lexer": "ipython3",
   "version": "3.10.9"
  },
  "orig_nbformat": 4
 },
 "nbformat": 4,
 "nbformat_minor": 2
}
